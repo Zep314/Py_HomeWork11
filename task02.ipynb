{
 "cells": [
  {
   "cell_type": "markdown",
   "id": "032da3be",
   "metadata": {},
   "source": [
    "# Домашнее задание 2"
   ]
  },
  {
   "cell_type": "markdown",
   "id": "8bdf08ff",
   "metadata": {},
   "source": [
    "Дана функция:\n",
    "f(x)=x^2 - 6|x| + 8\n",
    "Требуется:\n",
    "1. Определить корни \n",
    "2. Найти интервалы, на которых функция возрастает \n",
    "3. Найти интервалы, на которых функция убывает \n",
    "4. Построить график \n",
    "5. Вычислить вершину \n",
    "6. Определить промежутки, на котором f > 0 \n",
    "7. Определить промежутки, на котором f < 0 "
   ]
  },
  {
   "cell_type": "code",
   "execution_count": 1,
   "id": "9093e29d",
   "metadata": {},
   "outputs": [],
   "source": [
    "import sympy as sym\n",
    "from sympy import symbols, latex, diff, S\n",
    "from sympy.solvers import solve\n",
    "from sympy.plotting import plot\n",
    "\n",
    "sym.init_printing(use_latex='mathjax')"
   ]
  },
  {
   "cell_type": "code",
   "execution_count": 2,
   "id": "1db1c3d3",
   "metadata": {},
   "outputs": [
    {
     "data": {
      "text/latex": [
       "$\\displaystyle x^{2} - 6 \\left|{x}\\right| + 8$"
      ],
      "text/plain": [
       " 2            \n",
       "x  - 6⋅│x│ + 8"
      ]
     },
     "execution_count": 2,
     "metadata": {},
     "output_type": "execute_result"
    }
   ],
   "source": [
    "x = symbols('x',real=True) # ,real=True\n",
    "f = x**2 - 6*abs(x) + 8\n",
    "f"
   ]
  },
  {
   "cell_type": "markdown",
   "id": "e33f109c",
   "metadata": {},
   "source": [
    "## 1. Находим корни функции (ищем значения x, при которых f(x)=0)"
   ]
  },
  {
   "cell_type": "code",
   "execution_count": 3,
   "id": "9aef7058",
   "metadata": {},
   "outputs": [
    {
     "data": {
      "text/latex": [
       "$\\displaystyle \\left[ -4, \\  -2, \\  2, \\  4\\right]$"
      ],
      "text/plain": [
       "[-4, -2, 2, 4]"
      ]
     },
     "execution_count": 3,
     "metadata": {},
     "output_type": "execute_result"
    }
   ],
   "source": [
    "solve(f,x)"
   ]
  },
  {
   "cell_type": "markdown",
   "id": "deedd12a",
   "metadata": {},
   "source": [
    "Действительные корни есть, функция пересекает ось OX в 4-х местах"
   ]
  },
  {
   "cell_type": "markdown",
   "id": "cab5188f",
   "metadata": {},
   "source": [
    "## 2,3. Интервалы, на которых функция возрастает и убывает:"
   ]
  },
  {
   "cell_type": "code",
   "execution_count": 4,
   "id": "3d4c21c4",
   "metadata": {},
   "outputs": [
    {
     "data": {
      "text/latex": [
       "$\\displaystyle 2 x - 6 \\operatorname{sign}{\\left(x \\right)}$"
      ],
      "text/plain": [
       "2⋅x - 6⋅sign(x)"
      ]
     },
     "execution_count": 4,
     "metadata": {},
     "output_type": "execute_result"
    }
   ],
   "source": [
    "f1 = diff(f)\n",
    "f1 # производная\n"
   ]
  },
  {
   "cell_type": "code",
   "execution_count": 5,
   "id": "3037c7f8",
   "metadata": {},
   "outputs": [
    {
     "data": {
      "text/latex": [
       "$\\displaystyle 3.0$"
      ],
      "text/plain": [
       "3.00000000000000"
      ]
     },
     "execution_count": 5,
     "metadata": {},
     "output_type": "execute_result"
    }
   ],
   "source": [
    "extremum_x = solve(f1,x) # значение X в точке экстремума\n",
    "extremum_x[0].n()"
   ]
  },
  {
   "cell_type": "markdown",
   "id": "3add7883",
   "metadata": {},
   "source": [
    "т.к. функция симметричная (в ней есть модуль) - то точка экстремума так же будет симметрична. Так же точкой экстремума будет точка 0  "
   ]
  },
  {
   "cell_type": "code",
   "execution_count": 6,
   "id": "ac9b8eb4",
   "metadata": {},
   "outputs": [
    {
     "name": "stdout",
     "output_type": "stream",
     "text": [
      "-1.00000000000000\n",
      "8.00000000000000\n",
      "-1.00000000000000\n"
     ]
    }
   ],
   "source": [
    "print(f.subs(x,-extremum_x[0]).n()) #\n",
    "print(f.subs(x,0).n())\n",
    "print(f.subs(x,extremum_x[0]).n())"
   ]
  },
  {
   "cell_type": "code",
   "execution_count": 7,
   "id": "ef09839a",
   "metadata": {},
   "outputs": [
    {
     "name": "stdout",
     "output_type": "stream",
     "text": [
      "2\n",
      "5.60000000000000\n",
      "-5.60000000000000\n",
      "-2\n"
     ]
    }
   ],
   "source": [
    "print(f1.subs(x,-2))\n",
    "print(f1.subs(x,-0.2))\n",
    "print(f1.subs(x,0.2))\n",
    "print(f1.subs(x,2))\n"
   ]
  },
  {
   "cell_type": "markdown",
   "id": "603edb51",
   "metadata": {},
   "source": [
    "* На промежутке от -oo до -extremum_x[0] (-oo;-3) - производная отрицательная - функция f(x) - убывает\n",
    "* На промежутке от -extremum_x[0] до 0 (-3;0) - производная положительная - функция f(x) - возрастает\n",
    "* На промежутке от 0 до extremum_x[0] (0;3) - производная отрицательная - функция f(x) - убывает\n",
    "* На промежутке от extremum_x[0] до +oo (3;+oo) - производная положительная - функция f(x) - возрастает\n"
   ]
  },
  {
   "cell_type": "markdown",
   "id": "6a6a3895",
   "metadata": {},
   "source": [
    "## 4. Построить график "
   ]
  },
  {
   "cell_type": "code",
   "execution_count": 8,
   "id": "0a702441",
   "metadata": {},
   "outputs": [
    {
     "data": {
      "image/png": "[encoded data removed]",
      "text/plain": [
       "<Figure size 432x288 with 1 Axes>"
      ]
     },
     "metadata": {
      "needs_background": "light"
     },
     "output_type": "display_data"
    }
   ],
   "source": [
    "str= latex(S(f,evaluate = False))\n",
    "p = plot(f,(x,-8,8),title='$'+'f(x)='+str+'$', show=  False)\n",
    "p.show()"
   ]
  },
  {
   "cell_type": "markdown",
   "id": "137568ae",
   "metadata": {},
   "source": [
    "## 5. Вычислить вершину"
   ]
  },
  {
   "cell_type": "code",
   "execution_count": 9,
   "id": "32aba702",
   "metadata": {},
   "outputs": [
    {
     "data": {
      "image/png": "[encoded data removed]",
      "text/plain": [
       "<Figure size 432x288 with 1 Axes>"
      ]
     },
     "metadata": {
      "needs_background": "light"
     },
     "output_type": "display_data"
    }
   ],
   "source": [
    "str= latex(S(f1,evaluate = False))\n",
    "p = plot(f1,(x,-5,5), title = '$'+'f1(x)='+str+'$', show = False) # график производной\n",
    "p.show()"
   ]
  },
  {
   "cell_type": "markdown",
   "id": "fa776fd7",
   "metadata": {},
   "source": [
    "В точке x=0 производная функции имеет точку разрыва. Примем точку x = 0 вершиной функции. И вычислим ее значение"
   ]
  },
  {
   "cell_type": "code",
   "execution_count": 10,
   "id": "bc7e821c",
   "metadata": {},
   "outputs": [
    {
     "data": {
      "text/latex": [
       "$\\displaystyle 8$"
      ],
      "text/plain": [
       "8"
      ]
     },
     "execution_count": 10,
     "metadata": {},
     "output_type": "execute_result"
    }
   ],
   "source": [
    "f.subs(x,0)"
   ]
  },
  {
   "cell_type": "markdown",
   "id": "1940a9cc",
   "metadata": {},
   "source": [
    "Точка (0; 8) - вершина функции"
   ]
  },
  {
   "cell_type": "markdown",
   "id": "4c7752b4",
   "metadata": {},
   "source": [
    "## 6, 7. Определить промежутки, на котором f > 0 и f < 0"
   ]
  },
  {
   "cell_type": "markdown",
   "id": "c519d92b",
   "metadata": {},
   "source": [
    "Функция f(x) - имеет 4 действительных корня. Соответсвено найдем значения функции в каждом промежутке"
   ]
  },
  {
   "cell_type": "code",
   "execution_count": 11,
   "id": "9c979267",
   "metadata": {},
   "outputs": [
    {
     "name": "stdout",
     "output_type": "stream",
     "text": [
      "8\n",
      "-1\n",
      "8\n",
      "-1\n",
      "8\n"
     ]
    }
   ],
   "source": [
    "print(f.subs(x,-6))\n",
    "print(f.subs(x,-3))\n",
    "print(f.subs(x,0))\n",
    "print(f.subs(x,3))\n",
    "print(f.subs(x,6))"
   ]
  },
  {
   "cell_type": "markdown",
   "id": "ddaa089e",
   "metadata": {},
   "source": [
    "* На промежутке (-oo;-4) - f(x) положительна\n",
    "* На промежутке (-4;-2) - f(x) отрицательна\n",
    "* На промежутке (-2;2) - f(x) положительна\n",
    "* На промежутке (2;4) - f(x) отрицательна\n",
    "* На промежутке (4;+oo) - f(x) положительна"
   ]
  }
 ],
 "metadata": {
  "kernelspec": {
   "display_name": "Python 3 (ipykernel)",
   "language": "python",
   "name": "python3"
  },
  "language_info": {
   "codemirror_mode": {
    "name": "ipython",
    "version": 3
   },
   "file_extension": ".py",
   "mimetype": "text/x-python",
   "name": "python",
   "nbconvert_exporter": "python",
   "pygments_lexer": "ipython3",
   "version": "3.9.12"
  }
 },
 "nbformat": 4,
 "nbformat_minor": 5
}
